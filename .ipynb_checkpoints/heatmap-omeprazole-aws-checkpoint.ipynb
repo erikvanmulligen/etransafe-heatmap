{
 "cells": [
  {
   "cell_type": "markdown",
   "metadata": {},
   "source": [
    "# eTransafe Omeprazole Heatmap\n",
    "\n",
    "This is the use scenario that has been described in the eTox project for exploring the differences with respect to adverse events between omeprazole preclinical and clinical. In order to compute these results the following scenario is executed:\n",
    "1. Translate the provided compound (e.g., omeprazole) to a SMILES\n",
    "2. Retrieve similar compounds based on structural similarity\n",
    "3. Retrieve data from the preclinical and clinical databases\n",
    "4. Aggregate the data per system organ class\n",
    "5. Visualize the data using a heatmap\n",
    "\n",
    "(C) 2020 Erasmus University Medical Center, Rotterdam, The Netherlands\n",
    "Author: Erik M. van Mulligen, e.vanmulligen@erasmusmc.nl"
   ]
  },
  {
   "cell_type": "code",
   "execution_count": 21,
   "metadata": {
    "pycharm": {
     "name": "#%%\n"
    }
   },
   "outputs": [],
   "source": [
    "from kh.api import KnowledgeHubAPI\n",
    "import ipywidgets as w\n",
    "from IPython.display import display, Javascript\n",
    "from ipypublish import nb_setup\n",
    "import numpy as np\n",
    "import numpy.ma as ma\n",
    "import seaborn as sns\n",
    "import pandas\n",
    "import matplotlib.pyplot as plt"
   ]
  },
  {
   "cell_type": "code",
   "execution_count": 22,
   "metadata": {},
   "outputs": [],
   "source": [
    "api = KnowledgeHubAPI()"
   ]
  },
  {
   "cell_type": "markdown",
   "metadata": {},
   "source": [
    "## 1. Translate compound to SMILES using semantic services\n",
    "For the entered compound name, retrieve the associated SMILES using the semantic services"
   ]
  },
  {
   "cell_type": "code",
   "execution_count": 23,
   "metadata": {},
   "outputs": [
    {
     "data": {
      "application/vnd.jupyter.widget-view+json": {
       "model_id": "1de36fa4a8fb4d87990957b64b9296c4",
       "version_major": 2,
       "version_minor": 0
      },
      "text/plain": [
       "VBox(children=(Text(value='omeprazole', description='compound:', placeholder='compound name'), Button(descript…"
      ]
     },
     "metadata": {},
     "output_type": "display_data"
    },
    {
     "name": "stdout",
     "output_type": "stream",
     "text": [
      "Found SMILES COc1ccc2[nH]c(nc2c1)[S+]([O-])Cc3ncc(C)c(OC)c3C for omeprazole\n"
     ]
    },
    {
     "data": {
      "application/javascript": [
       "IPython.notebook.execute_cell_range(IPython.notebook.get_selected_index()+1, IPython.notebook.get_selected_index()+2)"
      ],
      "text/plain": [
       "<IPython.core.display.Javascript object>"
      ]
     },
     "metadata": {},
     "output_type": "display_data"
    }
   ],
   "source": [
    "compoundName = w.Text(value='omeprazole',placeholder='compound name', description='compound:', disabled=False)\n",
    "compoundBtn = w.Button(description='Retrieve')\n",
    "compoundSmile = None\n",
    "\n",
    "def on_compound_entered(_):\n",
    "        compound = api.SemanticService().normalize(compoundName.value, ['RxNorm','smiles'])\n",
    "        if 'concepts' in compound:\n",
    "            for concept in compound['concepts']:\n",
    "                if 'vocabularyId' in concept:\n",
    "                    if concept['vocabularyId'] == 'smiles':\n",
    "                        global compoundSmile\n",
    "                        compoundSmile = concept['conceptCode']\n",
    "                        print(f'Found SMILES {compoundSmile} for {compoundName.value}')\n",
    "                        display(Javascript('IPython.notebook.execute_cell_range(IPython.notebook.get_selected_index()+1, IPython.notebook.get_selected_index()+2)'))\n",
    "\n",
    "compoundBtn.on_click(on_compound_entered) \n",
    "w.VBox([compoundName, compoundBtn])"
   ]
  },
  {
   "cell_type": "code",
   "execution_count": 25,
   "metadata": {},
   "outputs": [],
   "source": [
    "compoundIds = []\n",
    "compoundNames = []\n",
    "names = []\n",
    "smiles = []\n",
    "similarities = []"
   ]
  },
  {
   "cell_type": "markdown",
   "metadata": {},
   "source": [
    "## 2. Retrieve similar compounds"
   ]
  },
  {
   "cell_type": "code",
   "execution_count": 26,
   "metadata": {},
   "outputs": [
    {
     "data": {
      "text/html": [
       "<div>\n",
       "<style scoped>\n",
       "    .dataframe tbody tr th:only-of-type {\n",
       "        vertical-align: middle;\n",
       "    }\n",
       "\n",
       "    .dataframe tbody tr th {\n",
       "        vertical-align: top;\n",
       "    }\n",
       "\n",
       "    .dataframe thead th {\n",
       "        text-align: right;\n",
       "    }\n",
       "</style>\n",
       "<table border=\"1\" class=\"dataframe\">\n",
       "  <thead>\n",
       "    <tr style=\"text-align: right;\">\n",
       "      <th></th>\n",
       "      <th>NAME</th>\n",
       "      <th>SMILES</th>\n",
       "      <th>SIMILARITY</th>\n",
       "    </tr>\n",
       "  </thead>\n",
       "  <tbody>\n",
       "    <tr>\n",
       "      <th>0</th>\n",
       "      <td>Omeprazole</td>\n",
       "      <td>COc1ccc2[nH]c([S+]([O-])Cc3ncc(C)c(OC)c3C)nc2c1</td>\n",
       "      <td>1.0000</td>\n",
       "    </tr>\n",
       "    <tr>\n",
       "      <th>1</th>\n",
       "      <td>Esomeprazole</td>\n",
       "      <td>COc1ccc2[nH]c([S@@+]([O-])Cc3ncc(C)c(OC)c3C)nc2c1</td>\n",
       "      <td>0.9990</td>\n",
       "    </tr>\n",
       "    <tr>\n",
       "      <th>2</th>\n",
       "      <td>estropipate</td>\n",
       "      <td>C1CNCCN1.C[C@]12CC[C@@H]3c4ccc(OS(=O)(=O)O)cc4...</td>\n",
       "      <td>0.9897</td>\n",
       "    </tr>\n",
       "    <tr>\n",
       "      <th>3</th>\n",
       "      <td>Dipivefrin</td>\n",
       "      <td>CNCC(O)c1ccc(OC(=O)C(C)(C)C)c(OC(=O)C(C)(C)C)c1</td>\n",
       "      <td>0.9897</td>\n",
       "    </tr>\n",
       "    <tr>\n",
       "      <th>4</th>\n",
       "      <td>lomefloxacin</td>\n",
       "      <td>CCn1cc(C(=O)O)c(=O)c2cc(F)c(N3CCNC(C)C3)c(F)c21</td>\n",
       "      <td>0.9885</td>\n",
       "    </tr>\n",
       "    <tr>\n",
       "      <th>5</th>\n",
       "      <td>formoterol_/_Mometasone_Metered_Dose_Inhaler</td>\n",
       "      <td>COc1ccc(CC(C)NCC(O)c2ccc(O)c(NC=O)c2)cc1</td>\n",
       "      <td>0.9880</td>\n",
       "    </tr>\n",
       "    <tr>\n",
       "      <th>6</th>\n",
       "      <td>Budesonide_/_formoterol_Inhalant_Powder</td>\n",
       "      <td>COc1ccc(CC(C)NCC(O)c2ccc(O)c(NC=O)c2)cc1</td>\n",
       "      <td>0.9880</td>\n",
       "    </tr>\n",
       "    <tr>\n",
       "      <th>7</th>\n",
       "      <td>arformoterol</td>\n",
       "      <td>COc1ccc(C[C@@H](C)NC[C@H](O)c2ccc(O)c(NC=O)c2)cc1</td>\n",
       "      <td>0.9880</td>\n",
       "    </tr>\n",
       "    <tr>\n",
       "      <th>8</th>\n",
       "      <td>formoterol</td>\n",
       "      <td>COc1ccc(CC(C)NCC(O)c2ccc(O)c(NC=O)c2)cc1</td>\n",
       "      <td>0.9880</td>\n",
       "    </tr>\n",
       "    <tr>\n",
       "      <th>9</th>\n",
       "      <td>Acebutolol</td>\n",
       "      <td>CCCC(=O)Nc1ccc(OCC(O)CNC(C)C)c(C(C)=O)c1</td>\n",
       "      <td>0.9875</td>\n",
       "    </tr>\n",
       "    <tr>\n",
       "      <th>10</th>\n",
       "      <td>aceclofenac</td>\n",
       "      <td>O=C(O)COC(=O)Cc1ccccc1Nc1c(Cl)cccc1Cl</td>\n",
       "      <td>0.9873</td>\n",
       "    </tr>\n",
       "    <tr>\n",
       "      <th>11</th>\n",
       "      <td>sultopride</td>\n",
       "      <td>CCN1CCCC1CNC(=O)c1cc(S(=O)(=O)CC)ccc1OC</td>\n",
       "      <td>0.9873</td>\n",
       "    </tr>\n",
       "    <tr>\n",
       "      <th>12</th>\n",
       "      <td>pimobendan</td>\n",
       "      <td>COc1ccc(-c2nc3cc(C4=NNC(=O)CC4C)ccc3[nH]2)cc1</td>\n",
       "      <td>0.9872</td>\n",
       "    </tr>\n",
       "    <tr>\n",
       "      <th>13</th>\n",
       "      <td>Epoprostenol</td>\n",
       "      <td>CCCCC[C@H](O)/C=C/[C@H]1[C@H](O)C[C@@H]2O/C(=C...</td>\n",
       "      <td>0.9856</td>\n",
       "    </tr>\n",
       "    <tr>\n",
       "      <th>14</th>\n",
       "      <td>voriconazole</td>\n",
       "      <td>C[C@@H](c1ncncc1F)[C@](O)(Cn1cncn1)c1ccc(F)cc1F</td>\n",
       "      <td>0.9850</td>\n",
       "    </tr>\n",
       "    <tr>\n",
       "      <th>15</th>\n",
       "      <td>Fluorescein</td>\n",
       "      <td>O=C(O)c1ccccc1-c1c2ccc(=O)cc-2oc2cc(O)ccc12</td>\n",
       "      <td>0.9848</td>\n",
       "    </tr>\n",
       "    <tr>\n",
       "      <th>16</th>\n",
       "      <td>idebenone</td>\n",
       "      <td>COC1=C(OC)C(=O)C(CCCCCCCCCCO)=C(C)C1=O</td>\n",
       "      <td>0.9846</td>\n",
       "    </tr>\n",
       "    <tr>\n",
       "      <th>17</th>\n",
       "      <td>Clopamide_/_Dihydroergocristine_/_Reserpine_Or...</td>\n",
       "      <td>CC1CCCC(C)N1NC(=O)c1ccc(Cl)c(S(N)(=O)=O)c1</td>\n",
       "      <td>0.9842</td>\n",
       "    </tr>\n",
       "    <tr>\n",
       "      <th>18</th>\n",
       "      <td>Clopamide</td>\n",
       "      <td>CC1CCCC(C)N1NC(=O)c1ccc(Cl)c(S(N)(=O)=O)c1</td>\n",
       "      <td>0.9842</td>\n",
       "    </tr>\n",
       "    <tr>\n",
       "      <th>19</th>\n",
       "      <td>Penicillin_G</td>\n",
       "      <td>CC1(C)S[C@@H]2[C@H](NC(=O)Cc3ccccc3)C(=O)N2[C@...</td>\n",
       "      <td>0.9839</td>\n",
       "    </tr>\n",
       "  </tbody>\n",
       "</table>\n",
       "</div>"
      ],
      "text/latex": [
       "\\begin{tabular}{llll}\n",
       "\\toprule\n",
       "{} &                                               NAME &                                             SMILES & SIMILARITY \\\\\n",
       "\\midrule\n",
       "0  &                                         Omeprazole &    COc1ccc2[nH]c([S+]([O-])Cc3ncc(C)c(OC)c3C)nc2c1 &     1.0000 \\\\\n",
       "1  &                                       Esomeprazole &  COc1ccc2[nH]c([S@@+]([O-])Cc3ncc(C)c(OC)c3C)nc2c1 &     0.9990 \\\\\n",
       "2  &                                        estropipate &  C1CNCCN1.C[C@]12CC[C@@H]3c4ccc(OS(=O)(=O)O)cc4... &     0.9897 \\\\\n",
       "3  &                                         Dipivefrin &    CNCC(O)c1ccc(OC(=O)C(C)(C)C)c(OC(=O)C(C)(C)C)c1 &     0.9897 \\\\\n",
       "4  &                                       lomefloxacin &    CCn1cc(C(=O)O)c(=O)c2cc(F)c(N3CCNC(C)C3)c(F)c21 &     0.9885 \\\\\n",
       "5  &       formoterol_/_Mometasone_Metered_Dose_Inhaler &           COc1ccc(CC(C)NCC(O)c2ccc(O)c(NC=O)c2)cc1 &     0.9880 \\\\\n",
       "6  &            Budesonide_/_formoterol_Inhalant_Powder &           COc1ccc(CC(C)NCC(O)c2ccc(O)c(NC=O)c2)cc1 &     0.9880 \\\\\n",
       "7  &                                       arformoterol &  COc1ccc(C[C@@H](C)NC[C@H](O)c2ccc(O)c(NC=O)c2)cc1 &     0.9880 \\\\\n",
       "8  &                                         formoterol &           COc1ccc(CC(C)NCC(O)c2ccc(O)c(NC=O)c2)cc1 &     0.9880 \\\\\n",
       "9  &                                         Acebutolol &           CCCC(=O)Nc1ccc(OCC(O)CNC(C)C)c(C(C)=O)c1 &     0.9875 \\\\\n",
       "10 &                                        aceclofenac &              O=C(O)COC(=O)Cc1ccccc1Nc1c(Cl)cccc1Cl &     0.9873 \\\\\n",
       "11 &                                         sultopride &            CCN1CCCC1CNC(=O)c1cc(S(=O)(=O)CC)ccc1OC &     0.9873 \\\\\n",
       "12 &                                         pimobendan &      COc1ccc(-c2nc3cc(C4=NNC(=O)CC4C)ccc3[nH]2)cc1 &     0.9872 \\\\\n",
       "13 &                                       Epoprostenol &  CCCCC[C@H](O)/C=C/[C@H]1[C@H](O)C[C@@H]2O/C(=C... &     0.9856 \\\\\n",
       "14 &                                       voriconazole &    C[C@@H](c1ncncc1F)[C@](O)(Cn1cncn1)c1ccc(F)cc1F &     0.9850 \\\\\n",
       "15 &                                        Fluorescein &        O=C(O)c1ccccc1-c1c2ccc(=O)cc-2oc2cc(O)ccc12 &     0.9848 \\\\\n",
       "16 &                                          idebenone &             COC1=C(OC)C(=O)C(CCCCCCCCCCO)=C(C)C1=O &     0.9846 \\\\\n",
       "17 &  Clopamide_/_Dihydroergocristine_/_Reserpine_Or... &         CC1CCCC(C)N1NC(=O)c1ccc(Cl)c(S(N)(=O)=O)c1 &     0.9842 \\\\\n",
       "18 &                                          Clopamide &         CC1CCCC(C)N1NC(=O)c1ccc(Cl)c(S(N)(=O)=O)c1 &     0.9842 \\\\\n",
       "19 &                                       Penicillin_G &  CC1(C)S[C@@H]2[C@H](NC(=O)Cc3ccccc3)C(=O)N2[C@... &     0.9839 \\\\\n",
       "\\bottomrule\n",
       "\\end{tabular}\n"
      ],
      "text/plain": [
       "                                                 NAME  \\\n",
       "0                                          Omeprazole   \n",
       "1                                        Esomeprazole   \n",
       "2                                         estropipate   \n",
       "3                                          Dipivefrin   \n",
       "4                                        lomefloxacin   \n",
       "5        formoterol_/_Mometasone_Metered_Dose_Inhaler   \n",
       "6             Budesonide_/_formoterol_Inhalant_Powder   \n",
       "7                                        arformoterol   \n",
       "8                                          formoterol   \n",
       "9                                          Acebutolol   \n",
       "10                                        aceclofenac   \n",
       "11                                         sultopride   \n",
       "12                                         pimobendan   \n",
       "13                                       Epoprostenol   \n",
       "14                                       voriconazole   \n",
       "15                                        Fluorescein   \n",
       "16                                          idebenone   \n",
       "17  Clopamide_/_Dihydroergocristine_/_Reserpine_Or...   \n",
       "18                                          Clopamide   \n",
       "19                                       Penicillin_G   \n",
       "\n",
       "                                               SMILES SIMILARITY  \n",
       "0     COc1ccc2[nH]c([S+]([O-])Cc3ncc(C)c(OC)c3C)nc2c1     1.0000  \n",
       "1   COc1ccc2[nH]c([S@@+]([O-])Cc3ncc(C)c(OC)c3C)nc2c1     0.9990  \n",
       "2   C1CNCCN1.C[C@]12CC[C@@H]3c4ccc(OS(=O)(=O)O)cc4...     0.9897  \n",
       "3     CNCC(O)c1ccc(OC(=O)C(C)(C)C)c(OC(=O)C(C)(C)C)c1     0.9897  \n",
       "4     CCn1cc(C(=O)O)c(=O)c2cc(F)c(N3CCNC(C)C3)c(F)c21     0.9885  \n",
       "5            COc1ccc(CC(C)NCC(O)c2ccc(O)c(NC=O)c2)cc1     0.9880  \n",
       "6            COc1ccc(CC(C)NCC(O)c2ccc(O)c(NC=O)c2)cc1     0.9880  \n",
       "7   COc1ccc(C[C@@H](C)NC[C@H](O)c2ccc(O)c(NC=O)c2)cc1     0.9880  \n",
       "8            COc1ccc(CC(C)NCC(O)c2ccc(O)c(NC=O)c2)cc1     0.9880  \n",
       "9            CCCC(=O)Nc1ccc(OCC(O)CNC(C)C)c(C(C)=O)c1     0.9875  \n",
       "10              O=C(O)COC(=O)Cc1ccccc1Nc1c(Cl)cccc1Cl     0.9873  \n",
       "11            CCN1CCCC1CNC(=O)c1cc(S(=O)(=O)CC)ccc1OC     0.9873  \n",
       "12      COc1ccc(-c2nc3cc(C4=NNC(=O)CC4C)ccc3[nH]2)cc1     0.9872  \n",
       "13  CCCCC[C@H](O)/C=C/[C@H]1[C@H](O)C[C@@H]2O/C(=C...     0.9856  \n",
       "14    C[C@@H](c1ncncc1F)[C@](O)(Cn1cncn1)c1ccc(F)cc1F     0.9850  \n",
       "15        O=C(O)c1ccccc1-c1c2ccc(=O)cc-2oc2cc(O)ccc12     0.9848  \n",
       "16             COC1=C(OC)C(=O)C(CCCCCCCCCCO)=C(C)C1=O     0.9846  \n",
       "17         CC1CCCC(C)N1NC(=O)c1ccc(Cl)c(S(N)(=O)=O)c1     0.9842  \n",
       "18         CC1CCCC(C)N1NC(=O)c1ccc(Cl)c(S(N)(=O)=O)c1     0.9842  \n",
       "19  CC1(C)S[C@@H]2[C@H](NC(=O)Cc3ccccc3)C(=O)N2[C@...     0.9839  "
      ]
     },
     "execution_count": 26,
     "metadata": {},
     "output_type": "execute_result"
    }
   ],
   "source": [
    "similar_compounds = api.SimilarityService().get(compoundSmile, nr_results = 20)\n",
    "\n",
    "if similar_compounds != None:\n",
    "    if ('search_results' in similar_compounds) and (len(similar_compounds['search_results']) == 1):\n",
    "        search_result = similar_compounds['search_results'][0]\n",
    "        if 'obj_nam' in search_result:\n",
    "            for i in range(len(search_result['obj_nam'])):\n",
    "                names.append(search_result['obj_nam'][i])\n",
    "                smiles.append(search_result['SMILES'][i])\n",
    "                similarities.append(\"{:.4f}\".format(search_result['distances'][i]))\n",
    "\n",
    "            for cmp in search_result['obj_nam']:\n",
    "                concept = api.SemanticService().normalize(cmp, ['RxNorm'])\n",
    "                if 'concepts' in concept and len(concept['concepts']) == 1:\n",
    "                    compoundIds.append(concept['concepts'][0]['conceptCode'])\n",
    "                    compoundNames.append(concept['concepts'][0]['conceptName'])\n",
    "        else:\n",
    "            print('something wrong in the result object from the similarity service')    \n",
    "\n",
    "pd = nb_setup.setup_pandas(escape_latex=False)\n",
    "df = pd.DataFrame(np.random.rand(len(names),3),columns=['NAME','SMILES','SIMILARITY'])\n",
    "df.NAME = names\n",
    "df.SMILES = smiles\n",
    "df.SIMILARITY = similarities\n",
    "df.round(3)"
   ]
  },
  {
   "cell_type": "markdown",
   "metadata": {},
   "source": [
    "# 3. Retrieve data from the preclinical and clinical databases"
   ]
  },
  {
   "cell_type": "code",
   "execution_count": 27,
   "metadata": {},
   "outputs": [
    {
     "name": "stdout",
     "output_type": "stream",
     "text": [
      "Found 15347 studies.\n"
     ]
    }
   ],
   "source": [
    "studies = api.Medline().getStudiesByCompoundIds(compoundIds) + \\\n",
    "          api.Faers().getStudiesByCompoundIds(compoundIds) + \\\n",
    "          api.ClinicalTrials().getStudiesByCompoundIds(compoundIds) + \\\n",
    "          api.eToxSys().getStudiesByCompoundNames(compoundNames)\n",
    "print(f'Found {len(studies)} studies.')"
   ]
  },
  {
   "cell_type": "markdown",
   "metadata": {},
   "source": [
    "# 4. Aggregate the data per system organ class\n",
    "\n",
    "Since the eTox data reports events with an organ. We use our own method to map it to MedDRA's system organ class to make it comparable"
   ]
  },
  {
   "cell_type": "code",
   "execution_count": 28,
   "metadata": {},
   "outputs": [],
   "source": [
    "system = {}\n",
    "all_compounds = [c.lower() for c in compoundNames]\n",
    "socs = {}\n",
    "\n",
    "# traverse all studies and collect the system organ classes; keep track of the # studies per class\n",
    "for study in studies:\n",
    "    source = study['source']\n",
    "    if source != 'eTOXsys' or study['FINDING']['finding'] != 'No abnormalities detected':\n",
    "        specimenOrgans = api.SemanticService().getSocs(study['FINDING']['specimenOrgan'])\n",
    "        for specimenOrgan in specimenOrgans:\n",
    "            if len(specimenOrgan) > 0:\n",
    "                if not specimenOrgan in socs:\n",
    "                    socs[specimenOrgan] = 1\n",
    "                else:\n",
    "                    socs[specimenOrgan] += 1\n",
    "                    \n",
    "# sort the socs per count\n",
    "all_socs = {k: v for k, v in sorted(socs.items(), key=lambda item: item[1], reverse=True)}\n",
    "\n",
    "# traverse all studies and create a matrix per source\n",
    "for study in studies:\n",
    "    source = study['source']\n",
    "    if not source in system.keys():\n",
    "        system[source] = {'data':np.zeros((len(all_socs),len(all_compounds)), dtype=int).tolist(), \n",
    "                          'rows':list(all_socs.keys()), \n",
    "                          'cols':all_compounds}\n",
    "    \n",
    "    if source != 'eTOXsys' or study['FINDING']['finding'] != 'No abnormalities detected':\n",
    "        specimenOrgans = api.SemanticService().getSocs(study['FINDING']['specimenOrgan'])\n",
    "        for specimenOrgan in specimenOrgans:\n",
    "            if len(specimenOrgan) > 0:\n",
    "                row = system[source]['rows'].index(specimenOrgan)\n",
    "                col = system[source]['cols'].index(study['COMPOUND']['name'].lower())\n",
    "                system[source]['data'][row][col] += 1\n",
    "                "
   ]
  },
  {
   "cell_type": "markdown",
   "metadata": {},
   "source": [
    "# 5. Visualize the data using a heatmap\n",
    "\n",
    "Using seaborn to visualize the content of the various databases. Note that we have to think about ways to easier compare the various results."
   ]
  },
  {
   "cell_type": "code",
   "execution_count": 29,
   "metadata": {
    "pycharm": {
     "name": "#%%\n"
    }
   },
   "outputs": [
    {
     "ename": "NameError",
     "evalue": "name 'numpy' is not defined",
     "output_type": "error",
     "traceback": [
      "\u001b[0;31m---------------------------------------------------------------------------\u001b[0m",
      "\u001b[0;31mNameError\u001b[0m                                 Traceback (most recent call last)",
      "\u001b[0;32m<ipython-input-29-b1c9ce52380a>\u001b[0m in \u001b[0;36m<module>\u001b[0;34m\u001b[0m\n\u001b[1;32m      5\u001b[0m \u001b[0;34m\u001b[0m\u001b[0m\n\u001b[1;32m      6\u001b[0m     \u001b[0;31m# create mask\u001b[0m\u001b[0;34m\u001b[0m\u001b[0;34m\u001b[0m\u001b[0;34m\u001b[0m\u001b[0m\n\u001b[0;32m----> 7\u001b[0;31m     \u001b[0mdata_mask\u001b[0m \u001b[0;34m=\u001b[0m \u001b[0mnumpy\u001b[0m\u001b[0;34m.\u001b[0m\u001b[0mma\u001b[0m\u001b[0;34m.\u001b[0m\u001b[0marray\u001b[0m\u001b[0;34m(\u001b[0m\u001b[0mnp\u001b[0m\u001b[0;34m.\u001b[0m\u001b[0mzeros\u001b[0m\u001b[0;34m(\u001b[0m\u001b[0;34m(\u001b[0m\u001b[0mlen\u001b[0m\u001b[0;34m(\u001b[0m\u001b[0mall_socs\u001b[0m\u001b[0;34m.\u001b[0m\u001b[0mkeys\u001b[0m\u001b[0;34m(\u001b[0m\u001b[0;34m)\u001b[0m\u001b[0;34m)\u001b[0m\u001b[0;34m,\u001b[0m \u001b[0mlen\u001b[0m\u001b[0;34m(\u001b[0m\u001b[0mall_compounds\u001b[0m\u001b[0;34m)\u001b[0m\u001b[0;34m)\u001b[0m\u001b[0;34m)\u001b[0m\u001b[0;34m)\u001b[0m\u001b[0;34m\u001b[0m\u001b[0;34m\u001b[0m\u001b[0m\n\u001b[0m\u001b[1;32m      8\u001b[0m     \u001b[0;32mfor\u001b[0m \u001b[0mr\u001b[0m \u001b[0;32min\u001b[0m \u001b[0mrange\u001b[0m\u001b[0;34m(\u001b[0m\u001b[0;36m0\u001b[0m\u001b[0;34m,\u001b[0m \u001b[0mlen\u001b[0m\u001b[0;34m(\u001b[0m\u001b[0mall_socs\u001b[0m\u001b[0;34m.\u001b[0m\u001b[0mkeys\u001b[0m\u001b[0;34m(\u001b[0m\u001b[0;34m)\u001b[0m\u001b[0;34m)\u001b[0m\u001b[0;34m)\u001b[0m\u001b[0;34m:\u001b[0m\u001b[0;34m\u001b[0m\u001b[0;34m\u001b[0m\u001b[0m\n\u001b[1;32m      9\u001b[0m         \u001b[0;32mfor\u001b[0m \u001b[0mc\u001b[0m \u001b[0;32min\u001b[0m \u001b[0mrange\u001b[0m\u001b[0;34m(\u001b[0m\u001b[0;36m0\u001b[0m\u001b[0;34m,\u001b[0m \u001b[0mlen\u001b[0m\u001b[0;34m(\u001b[0m\u001b[0mall_compounds\u001b[0m\u001b[0;34m)\u001b[0m\u001b[0;34m)\u001b[0m\u001b[0;34m:\u001b[0m\u001b[0;34m\u001b[0m\u001b[0;34m\u001b[0m\u001b[0m\n",
      "\u001b[0;31mNameError\u001b[0m: name 'numpy' is not defined"
     ]
    },
    {
     "data": {
      "text/plain": [
       "<Figure size 864x648 with 0 Axes>"
      ]
     },
     "metadata": {},
     "output_type": "display_data"
    }
   ],
   "source": [
    "i = 1\n",
    "for source,value in system.items():\n",
    "    plt.figure(figsize=(12,9))\n",
    "    data = system[source]['data']\n",
    "    \n",
    "    # create mask\n",
    "    data_mask = ma.array(np.zeros((len(all_socs.keys()), len(all_compounds))))\n",
    "    for r in range(0, len(all_socs.keys())):\n",
    "        for c in range(0, len(all_compounds)):\n",
    "            data_mask[r][c] = 1 if data[r][c] == 0 else 0\n",
    "\n",
    "    colormap = sns.cubehelix_palette(as_cmap=True, light=.9)\n",
    "    ax = sns.heatmap(data, \n",
    "                     mask=data_mask, \n",
    "                     yticklabels=list(all_socs.keys()), \n",
    "                     annot=True, \n",
    "                     fmt=\".0f\", \n",
    "                     cmap=colormap)\n",
    "    ax.set_xticklabels(all_compounds, rotation=45, fontsize=12)\n",
    "    ax.set_yticklabels(ax.get_ymajorticklabels(), fontsize=12)\n",
    "    plt.title(source, fontsize = 20)\n",
    "    plt.ylabel(\"Findings per organ class\", fontsize = 16)\n",
    "    plt.xlabel(\"Similar compounds\", fontsize = 16)\n",
    "    i += 1\n",
    "    plt.show()\n",
    "    print('')\n",
    "    print('')\n",
    "\n"
   ]
  },
  {
   "cell_type": "code",
   "execution_count": null,
   "metadata": {},
   "outputs": [],
   "source": []
  }
 ],
 "metadata": {
  "kernelspec": {
   "display_name": "PyCharm (KnowledgeHub)",
   "language": "python",
   "name": "pycharm-98e22f02"
  },
  "language_info": {
   "codemirror_mode": {
    "name": "ipython",
    "version": 3
   },
   "file_extension": ".py",
   "mimetype": "text/x-python",
   "name": "python",
   "nbconvert_exporter": "python",
   "pygments_lexer": "ipython3",
   "version": "3.8.6"
  }
 },
 "nbformat": 4,
 "nbformat_minor": 4
}
