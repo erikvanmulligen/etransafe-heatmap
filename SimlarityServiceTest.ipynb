{
 "cells": [
  {
   "cell_type": "markdown",
   "metadata": {},
   "source": [
    "# Example on running similarity service"
   ]
  },
  {
   "cell_type": "code",
   "execution_count": 1,
   "metadata": {},
   "outputs": [],
   "source": [
    "from __future__ import print_function\n",
    "import sys  \n",
    "sys.path.insert(0, '/Users/mulligen/Workspaces/AllProjects/eTS/src')\n",
    "\n",
    "import kh\n",
    "import json\n",
    "import pprint"
   ]
  },
  {
   "cell_type": "code",
   "execution_count": 2,
   "metadata": {},
   "outputs": [
    {
     "data": {
      "text/plain": [
       "True"
      ]
     },
     "execution_count": 2,
     "metadata": {},
     "output_type": "execute_result"
    }
   ],
   "source": [
    "api = kh.KnowledgeHubAPI()\n",
    "api.login('e.vanmulligen@erasmusmc.nl', 'Crosby99')"
   ]
  },
  {
   "cell_type": "code",
   "execution_count": 3,
   "metadata": {},
   "outputs": [
    {
     "name": "stdout",
     "output_type": "stream",
     "text": [
      "{'concepts': [{'conceptCode': '7646',\n",
      "               'conceptId': 923645,\n",
      "               'conceptName': 'Omeprazole',\n",
      "               'domainId': 'Drug',\n",
      "               'queryFields': [],\n",
      "               'vocabularyId': 'RxNorm'},\n",
      "              {'conceptCode': 'COc1ccc2[nH]c(nc2c1)[S+]([O-])Cc3ncc(C)c(OC)c3C',\n",
      "               'conceptId': 150000202,\n",
      "               'conceptName': 'SUBDBMMJDZJVOS-UHFFFAOYSA-N',\n",
      "               'domainId': 'Drug',\n",
      "               'queryFields': [],\n",
      "               'vocabularyId': 'smiles'}],\n",
      " 'count': 20,\n",
      " 'page': 1}\n"
     ]
    }
   ],
   "source": [
    "## get the smile for omaprazole\n",
    "compounds = api.SemanticService().normalize('omeprazole', ['RxNorm','smiles'])\n",
    "pprint.pprint(compounds)"
   ]
  },
  {
   "cell_type": "code",
   "execution_count": 4,
   "metadata": {},
   "outputs": [
    {
     "name": "stdout",
     "output_type": "stream",
     "text": [
      "multiple concepts found\n"
     ]
    }
   ],
   "source": [
    "if 'concepts' in compounds:\n",
    "    if len(compounds['concepts']) == 1:\n",
    "        conceptId = compounds['concepts'][0]['conceptId']\n",
    "        print(f'conceptId={str(conceptId)}')\n",
    "        concept = api.SemanticService().concept(conceptId)\n",
    "        pprint.pprint(concept)\n",
    "    else:\n",
    "        print('multiple concepts found')\n",
    "else:\n",
    "    print('compound not found')"
   ]
  },
  {
   "cell_type": "code",
   "execution_count": 5,
   "metadata": {},
   "outputs": [
    {
     "name": "stdout",
     "output_type": "stream",
     "text": [
      "request failed:405, msg:<html>\n",
      "<head><title>405 Not Allowed</title></head>\n",
      "<body>\n",
      "<center><h1>405 Not Allowed</h1></center>\n",
      "<hr><center>nginx/1.16.0</center>\n",
      "</body>\n",
      "</html>\n",
      "\n",
      "similarity service failed\n"
     ]
    }
   ],
   "source": [
    "omeprazole = 'COC1=CC2=C(C=C1)N=C(N2)S(=O)CC1=NC=C(C)C(OC)=C1C'\n",
    "similar_compounds = api.SimilarityService().get(omeprazole, nr_results = 20)\n",
    "if similar_compounds != None:\n",
    "    print(json.dumps(similar_compounds, indent=4, sort_keys=True))\n",
    "else:\n",
    "    print('similarity service failed')"
   ]
  },
  {
   "cell_type": "code",
   "execution_count": null,
   "metadata": {},
   "outputs": [],
   "source": []
  }
 ],
 "metadata": {
  "kernelspec": {
   "display_name": "Python 3",
   "language": "python",
   "name": "python3"
  },
  "language_info": {
   "codemirror_mode": {
    "name": "ipython",
    "version": 3
   },
   "file_extension": ".py",
   "mimetype": "text/x-python",
   "name": "python",
   "nbconvert_exporter": "python",
   "pygments_lexer": "ipython3",
   "version": "3.7.6"
  }
 },
 "nbformat": 4,
 "nbformat_minor": 4
}
